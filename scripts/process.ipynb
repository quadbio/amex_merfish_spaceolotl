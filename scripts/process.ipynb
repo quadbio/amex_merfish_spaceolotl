{
 "cells": [
  {
   "cell_type": "code",
   "execution_count": 8,
   "id": "1a196326-5255-40de-b335-92d4fdf28372",
   "metadata": {},
   "outputs": [],
   "source": [
    "import sys\n",
    "import os\n",
    "path = os.path.abspath(\"../modules\")\n",
    "sys.path.insert(0, path)\n",
    "\n",
    "import ShinyMerfish"
   ]
  },
  {
   "cell_type": "code",
   "execution_count": 21,
   "id": "586f479b-e192-4ea7-8ce1-1464691871fc",
   "metadata": {},
   "outputs": [],
   "source": [
    "samples = sorted([sample for sample in os.listdir('/nas/groups/treutlein/PROJECTS/axolotl/MERFISH/quant/v1.0.2/') if 'region' in sample])"
   ]
  },
  {
   "cell_type": "code",
   "execution_count": 22,
   "id": "1d59d6e5-b07c-43da-bc37-940c22188627",
   "metadata": {},
   "outputs": [
    {
     "data": {
      "text/plain": [
       "['202302041127_region_0',\n",
       " '202302041127_region_1',\n",
       " '202302071416_region_0',\n",
       " '202302071416_region_1',\n",
       " '202302171205_region_0',\n",
       " '202302171205_region_1',\n",
       " '202302171205_region_2',\n",
       " '202302171205_region_3',\n",
       " '202302171205_region_4',\n",
       " '202302181829_region_0',\n",
       " '202302181829_region_1',\n",
       " '202302181829_region_2',\n",
       " '202302181829_region_3',\n",
       " '202302181829_region_4',\n",
       " '202302181829_region_5',\n",
       " '202302181829_region_6',\n",
       " '202302181829_region_7',\n",
       " '202302181829_region_8',\n",
       " '202302181829_region_9',\n",
       " '202407181323_region_0',\n",
       " '202407181323_region_1',\n",
       " '202407181323_region_2',\n",
       " '202407181323_region_3',\n",
       " '202407181323_region_4',\n",
       " '202407181323_region_5',\n",
       " '202407181323_region_6']"
      ]
     },
     "execution_count": 22,
     "metadata": {},
     "output_type": "execute_result"
    }
   ],
   "source": [
    "samples"
   ]
  },
  {
   "cell_type": "code",
   "execution_count": null,
   "id": "36e549c6-a990-4419-bd08-4928ac8b6aad",
   "metadata": {},
   "outputs": [],
   "source": []
  }
 ],
 "metadata": {
  "kernelspec": {
   "display_name": "Python (amex_spatial)",
   "language": "python",
   "name": "amex_spatial"
  },
  "language_info": {
   "codemirror_mode": {
    "name": "ipython",
    "version": 3
   },
   "file_extension": ".py",
   "mimetype": "text/x-python",
   "name": "python",
   "nbconvert_exporter": "python",
   "pygments_lexer": "ipython3",
   "version": "3.12.7"
  }
 },
 "nbformat": 4,
 "nbformat_minor": 5
}
